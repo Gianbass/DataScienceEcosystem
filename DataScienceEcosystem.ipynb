{
 "cells": [
  {
   "cell_type": "markdown",
   "id": "e051b2de",
   "metadata": {},
   "source": [
    "# Data Science Tools and Ecosystem"
   ]
  },
  {
   "cell_type": "markdown",
   "id": "6d80a921",
   "metadata": {},
   "source": [
    "In this notebook, Data Science Tools and Ecosystem are summarized."
   ]
  },
  {
   "cell_type": "markdown",
   "id": "64b81f92",
   "metadata": {},
   "source": [
    "__Objectives:__\n",
    "*  List popular languages that Data Scientists use\n",
    "*  List popular libraries used by Data Scientists\n",
    "*  List popular Data Scients Tools\n",
    "*  List some examples of evaluating arithmetic expressions in Python\n"
   ]
  },
  {
   "cell_type": "markdown",
   "id": "2a481789",
   "metadata": {},
   "source": [
    "Some of the popular languages that Data Scientists use are:\n",
    "\n",
    "1.  Python\n",
    "2.  SQL\n",
    "3.  R\n",
    "4.  C++"
   ]
  },
  {
   "cell_type": "markdown",
   "id": "b0f45002",
   "metadata": {},
   "source": [
    "Some of the commonly used libraries used by Data Scientists include:\n",
    "\n",
    "1.  NumPy\n",
    "2.  Pandas\n",
    "3.  TensorFlow\n",
    "4.  SciPy\n",
    "5.  Keras\n",
    "6.  Matplotlib"
   ]
  },
  {
   "cell_type": "markdown",
   "id": "bfe4aed9",
   "metadata": {},
   "source": [
    "|Data Science Tools|\n",
    "|---|\n",
    "|KubeFlow|\n",
    "|Apache Hadoop|\n",
    "|Kibana|\n",
    "|Apache Spark SQL|"
   ]
  },
  {
   "cell_type": "markdown",
   "id": "52c67693",
   "metadata": {},
   "source": [
    "### Below are a few examples of evaluating arithmetic expressions in Python"
   ]
  },
  {
   "cell_type": "code",
   "execution_count": 1,
   "id": "353bf639",
   "metadata": {},
   "outputs": [
    {
     "data": {
      "text/plain": [
       "17"
      ]
     },
     "execution_count": 1,
     "metadata": {},
     "output_type": "execute_result"
    }
   ],
   "source": [
    "#This a simple arithmetic expression to mutiply then add integers\n",
    "(3*4)+5"
   ]
  },
  {
   "cell_type": "code",
   "execution_count": 2,
   "id": "e78bda0e",
   "metadata": {},
   "outputs": [
    {
     "data": {
      "text/plain": [
       "3.3333333333333335"
      ]
     },
     "execution_count": 2,
     "metadata": {},
     "output_type": "execute_result"
    }
   ],
   "source": [
    "#This will convert 200 minutes to hours by diving by 60\n",
    "200/60"
   ]
  },
  {
   "cell_type": "markdown",
   "id": "dd7a95ac",
   "metadata": {},
   "source": [
    "## Author \n",
    "Cataldi Gianluca"
   ]
  }
 ],
 "metadata": {
  "kernelspec": {
   "display_name": "Python 3 (ipykernel)",
   "language": "python",
   "name": "python3"
  },
  "language_info": {
   "codemirror_mode": {
    "name": "ipython",
    "version": 3
   },
   "file_extension": ".py",
   "mimetype": "text/x-python",
   "name": "python",
   "nbconvert_exporter": "python",
   "pygments_lexer": "ipython3",
   "version": "3.11.4"
  }
 },
 "nbformat": 4,
 "nbformat_minor": 5
}
